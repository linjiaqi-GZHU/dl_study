{
 "cells": [
  {
   "cell_type": "code",
   "execution_count": 1,
   "metadata": {},
   "outputs": [],
   "source": [
    "import torch\n",
    "import torchvision\n",
    "import torchvision.transforms as transforms\n",
    "import numpy as np"
   ]
  },
  {
   "cell_type": "code",
   "execution_count": 2,
   "metadata": {},
   "outputs": [],
   "source": [
    "x_train = np.load(\"../data/x_train.npy\").astype(\"float32\") #(n,img_w,img_h,rgb)\n",
    "y_train = np.load(\"../data/y_train.npy\")\n",
    "\n",
    "\n",
    "x_test = np.load(\"../data/x_test.npy\").astype(\"float32\")\n",
    "y_test = np.load(\"../data/y_test.npy\")\n"
   ]
  },
  {
   "cell_type": "code",
   "execution_count": 3,
   "metadata": {},
   "outputs": [],
   "source": [
    "transform = transforms.Compose([transforms.ToTensor(),transforms.Normalize((0.5, 0.5, 0.5), (0.5, 0.5, 0.5))])   \n",
    "x_train = torch.Tensor(np.array([transform(img).numpy() for img in x_train]))\n",
    "num_classes = 10\n",
    "y_train = torch.Tensor(y_train).type(torch.int64)[:,0]\n",
    "#y_train = torch.zeros(y_train.shape[0],num_classes).scatter_(1,y_train,1)"
   ]
  },
  {
   "cell_type": "code",
   "execution_count": 4,
   "metadata": {},
   "outputs": [
    {
     "data": {
      "text/plain": [
       "(torch.Size([50000, 3, 32, 32]), torch.Size([50000]))"
      ]
     },
     "execution_count": 4,
     "metadata": {},
     "output_type": "execute_result"
    }
   ],
   "source": [
    "x_train.shape,y_train.shape"
   ]
  },
  {
   "cell_type": "code",
   "execution_count": 5,
   "metadata": {},
   "outputs": [
    {
     "data": {
      "text/plain": [
       "(torch.float32, torch.int64)"
      ]
     },
     "execution_count": 5,
     "metadata": {},
     "output_type": "execute_result"
    }
   ],
   "source": [
    "x_train.dtype,y_train.dtype"
   ]
  },
  {
   "cell_type": "code",
   "execution_count": 6,
   "metadata": {},
   "outputs": [],
   "source": [
    "x_test = torch.Tensor(np.array([transform(img).numpy() for img in x_test]))\n",
    "y_test = torch.Tensor(y_test).type(torch.int64)[:,0]\n",
    "#y_test = torch.zeros(y_test.shape[0],num_classes).scatter_(1,y_test,1)"
   ]
  },
  {
   "cell_type": "code",
   "execution_count": 7,
   "metadata": {},
   "outputs": [
    {
     "data": {
      "text/plain": [
       "(torch.Size([10000, 3, 32, 32]), torch.Size([10000]))"
      ]
     },
     "execution_count": 7,
     "metadata": {},
     "output_type": "execute_result"
    }
   ],
   "source": [
    "x_test.shape,y_test.shape"
   ]
  },
  {
   "cell_type": "code",
   "execution_count": 8,
   "metadata": {},
   "outputs": [],
   "source": [
    "import torch.utils.data as Data"
   ]
  },
  {
   "cell_type": "code",
   "execution_count": 9,
   "metadata": {},
   "outputs": [],
   "source": [
    "train_dataset = Data.TensorDataset(x_train,y_train)\n",
    "trainloader = torch.utils.data.DataLoader(train_dataset, \n",
    "                                          batch_size=64,\n",
    "                                          shuffle=True, \n",
    "                                          num_workers=2)\n",
    "\n",
    "\n",
    "# 创建测试集\n",
    "test_dataset = Data.TensorDataset(x_test,y_test)\n",
    "testloader = torch.utils.data.DataLoader(test_dataset, \n",
    "                                         batch_size=64,\n",
    "                                         shuffle=False, \n",
    "                                         num_workers=2)"
   ]
  },
  {
   "cell_type": "code",
   "execution_count": 10,
   "metadata": {},
   "outputs": [],
   "source": [
    "import torch.nn as nn\n",
    "import torch.nn.functional as F\n",
    "\n",
    "\n",
    "class Net(nn.Module):\n",
    "    def __init__(self):\n",
    "        super(Net, self).__init__()\n",
    "        self.conv1 = nn.Conv2d(3, 6, 5)\n",
    "        self.pool = nn.MaxPool2d(2, 2)\n",
    "        self.conv2 = nn.Conv2d(6, 16, 5)\n",
    "        self.fc1 = nn.Linear(16 * 5 * 5, 120)\n",
    "        self.fc2 = nn.Linear(120, 84)\n",
    "        self.fc3 = nn.Linear(84, 10)\n",
    "\n",
    "    def forward(self, x):\n",
    "        x = self.pool(F.relu(self.conv1(x)))\n",
    "        x = self.pool(F.relu(self.conv2(x)))\n",
    "        x = x.view(-1, 16 * 5 * 5)\n",
    "        x = F.relu(self.fc1(x))\n",
    "        x = F.relu(self.fc2(x))\n",
    "        x = self.fc3(x)\n",
    "        return x"
   ]
  },
  {
   "cell_type": "code",
   "execution_count": 11,
   "metadata": {},
   "outputs": [],
   "source": [
    "net = Net()"
   ]
  },
  {
   "cell_type": "code",
   "execution_count": 12,
   "metadata": {},
   "outputs": [],
   "source": [
    "#device = torch.device(\"cuda:0\" if torch.cuda.is_available() else \"cpu\")\n",
    "device = torch.device(\"cpu\")"
   ]
  },
  {
   "cell_type": "code",
   "execution_count": 13,
   "metadata": {},
   "outputs": [
    {
     "name": "stdout",
     "output_type": "stream",
     "text": [
      "<class 'torch.device'>\n"
     ]
    }
   ],
   "source": [
    "print(type(device))"
   ]
  },
  {
   "cell_type": "code",
   "execution_count": 14,
   "metadata": {},
   "outputs": [
    {
     "data": {
      "text/plain": [
       "Net(\n",
       "  (conv1): Conv2d(3, 6, kernel_size=(5, 5), stride=(1, 1))\n",
       "  (pool): MaxPool2d(kernel_size=2, stride=2, padding=0, dilation=1, ceil_mode=False)\n",
       "  (conv2): Conv2d(6, 16, kernel_size=(5, 5), stride=(1, 1))\n",
       "  (fc1): Linear(in_features=400, out_features=120, bias=True)\n",
       "  (fc2): Linear(in_features=120, out_features=84, bias=True)\n",
       "  (fc3): Linear(in_features=84, out_features=10, bias=True)\n",
       ")"
      ]
     },
     "execution_count": 14,
     "metadata": {},
     "output_type": "execute_result"
    }
   ],
   "source": [
    "net.to(device)"
   ]
  },
  {
   "cell_type": "code",
   "execution_count": 15,
   "metadata": {},
   "outputs": [],
   "source": [
    "import torch.optim as optim"
   ]
  },
  {
   "cell_type": "code",
   "execution_count": 16,
   "metadata": {},
   "outputs": [],
   "source": [
    "criterion = nn.CrossEntropyLoss()\n",
    "optimizer = optim.SGD(net.parameters(), lr=0.001, momentum=0.9)"
   ]
  },
  {
   "cell_type": "code",
   "execution_count": 17,
   "metadata": {},
   "outputs": [],
   "source": [
    "import time"
   ]
  },
  {
   "cell_type": "code",
   "execution_count": 18,
   "metadata": {},
   "outputs": [
    {
     "name": "stdout",
     "output_type": "stream",
     "text": [
      "[epoch :1] loss: 1.879       [time :5.032 s]  \n",
      "[epoch :2] loss: 1.696       [time :4.908 s]  \n",
      "[epoch :3] loss: 1.600       [time :4.808 s]  \n",
      "[epoch :4] loss: 1.625       [time :4.817 s]  \n",
      "[epoch :5] loss: 1.568       [time :5.187 s]  \n",
      "[epoch :6] loss: 1.457       [time :4.997 s]  \n",
      "[epoch :7] loss: 1.406       [time :5.181 s]  \n",
      "[epoch :8] loss: 1.388       [time :4.968 s]  \n",
      "[epoch :9] loss: 1.382       [time :4.830 s]  \n",
      "[epoch :10] loss: 1.324       [time :4.939 s]  \n",
      "[epoch :11] loss: 1.213       [time :4.856 s]  \n",
      "[epoch :12] loss: 1.239       [time :4.909 s]  \n",
      "[epoch :13] loss: 1.179       [time :4.831 s]  \n",
      "[epoch :14] loss: 1.231       [time :4.813 s]  \n",
      "[epoch :15] loss: 1.184       [time :4.821 s]  \n",
      "[epoch :16] loss: 1.243       [time :4.893 s]  \n",
      "[epoch :17] loss: 1.163       [time :4.821 s]  \n",
      "[epoch :18] loss: 1.130       [time :4.960 s]  \n",
      "[epoch :19] loss: 1.157       [time :4.845 s]  \n",
      "[epoch :20] loss: 1.110       [time :4.895 s]  \n",
      "[epoch :21] loss: 1.089       [time :4.853 s]  \n",
      "[epoch :22] loss: 1.119       [time :4.876 s]  \n",
      "[epoch :23] loss: 1.089       [time :4.857 s]  \n",
      "[epoch :24] loss: 1.039       [time :4.919 s]  \n",
      "[epoch :25] loss: 1.056       [time :4.902 s]  \n",
      "[epoch :26] loss: 0.978       [time :4.925 s]  \n",
      "[epoch :27] loss: 1.096       [time :4.890 s]  \n",
      "[epoch :28] loss: 1.026       [time :4.911 s]  \n",
      "[epoch :29] loss: 1.014       [time :5.035 s]  \n",
      "[epoch :30] loss: 0.993       [time :4.905 s]  \n",
      "[epoch :31] loss: 1.015       [time :5.077 s]  \n",
      "[epoch :32] loss: 0.912       [time :5.047 s]  \n",
      "[epoch :33] loss: 1.018       [time :4.947 s]  \n",
      "[epoch :34] loss: 0.925       [time :4.870 s]  \n",
      "[epoch :35] loss: 0.942       [time :4.883 s]  \n",
      "[epoch :36] loss: 0.945       [time :4.834 s]  \n",
      "[epoch :37] loss: 0.893       [time :4.875 s]  \n",
      "[epoch :38] loss: 0.914       [time :4.847 s]  \n",
      "[epoch :39] loss: 0.936       [time :4.842 s]  \n",
      "[epoch :40] loss: 0.957       [time :5.178 s]  \n",
      "[epoch :41] loss: 0.904       [time :5.123 s]  \n",
      "[epoch :42] loss: 0.882       [time :4.814 s]  \n",
      "[epoch :43] loss: 0.949       [time :4.908 s]  \n",
      "[epoch :44] loss: 0.844       [time :4.950 s]  \n",
      "[epoch :45] loss: 0.905       [time :4.859 s]  \n",
      "[epoch :46] loss: 0.861       [time :4.940 s]  \n",
      "[epoch :47] loss: 0.827       [time :4.827 s]  \n",
      "[epoch :48] loss: 0.818       [time :4.889 s]  \n",
      "[epoch :49] loss: 0.833       [time :4.827 s]  \n",
      "[epoch :50] loss: 0.767       [time :5.008 s]  \n",
      "Finished Training\n"
     ]
    }
   ],
   "source": [
    "loss_list = []\n",
    "for epoch in range(50):  # loop over the dataset multiple times              #整个数据训练两轮\n",
    "\n",
    "    #所有数据开始训练  \n",
    "    running_loss = 0.0\n",
    "    loss_out = 0.0\n",
    "    start = time.time()\n",
    "    for i, data in enumerate(trainloader, 0):\n",
    "        # get the inputs; data is a list of [inputs, labels]\n",
    "    \n",
    "        inputs, labels = data[0].to(device), data[1].to(device)\n",
    "       \n",
    "        optimizer.zero_grad()                    #将梯度初始化为零\n",
    "\n",
    "        # forward + backward + optimize\n",
    "        outputs = net(inputs)\n",
    "        #print(outputs.dtype)\n",
    "        \n",
    "        loss = criterion(outputs, labels)        # 计算loss\n",
    "        \n",
    "        loss.backward()                          # loss 求导\n",
    "        optimizer.step()                         # 更新参数\n",
    "\n",
    "\n",
    "        #输出损失函数 两千轮显示一次\n",
    "        # print statistics\n",
    "        running_loss += loss.item()              #获取tensor的数值\n",
    "        if i % 20 == 19:    # print every 2000 mini-batches\n",
    "            print('\\r[%d, %5d] loss: %.3f' %\n",
    "                  (epoch + 1, i + 1, running_loss / 20),end='')\n",
    "            loss_out = running_loss\n",
    "            running_loss = 0.0                   # 每2000次迭代，输出loss的平均值\n",
    "    end = time.time()\n",
    "    print(\"\\r\",end='')\n",
    "    loss_print = loss_out / 20\n",
    "    loss_list.append(loss_print)\n",
    "    print('[epoch :%d] loss: %.3f       [time :%.3f s]  ' %\n",
    "                  (epoch + 1, loss_print,end-start))\n",
    "\n",
    "print('Finished Training')"
   ]
  },
  {
   "cell_type": "code",
   "execution_count": 19,
   "metadata": {},
   "outputs": [],
   "source": [
    "import matplotlib.pyplot as plt"
   ]
  },
  {
   "cell_type": "code",
   "execution_count": 20,
   "metadata": {},
   "outputs": [
    {
     "data": {
      "text/plain": [
       "[<matplotlib.lines.Line2D at 0x7f70a06f4210>]"
      ]
     },
     "execution_count": 20,
     "metadata": {},
     "output_type": "execute_result"
    },
    {
     "data": {
      "image/png": "[encoded data removed]",
      "text/plain": [
       "<Figure size 432x288 with 1 Axes>"
      ]
     },
     "metadata": {
      "needs_background": "light"
     },
     "output_type": "display_data"
    }
   ],
   "source": [
    "plt.plot(range(len(loss_list)),loss_list)"
   ]
  },
  {
   "cell_type": "code",
   "execution_count": 21,
   "metadata": {},
   "outputs": [
    {
     "data": {
      "text/plain": [
       "Net(\n",
       "  (conv1): Conv2d(3, 6, kernel_size=(5, 5), stride=(1, 1))\n",
       "  (pool): MaxPool2d(kernel_size=2, stride=2, padding=0, dilation=1, ceil_mode=False)\n",
       "  (conv2): Conv2d(6, 16, kernel_size=(5, 5), stride=(1, 1))\n",
       "  (fc1): Linear(in_features=400, out_features=120, bias=True)\n",
       "  (fc2): Linear(in_features=120, out_features=84, bias=True)\n",
       "  (fc3): Linear(in_features=84, out_features=10, bias=True)\n",
       ")"
      ]
     },
     "execution_count": 21,
     "metadata": {},
     "output_type": "execute_result"
    }
   ],
   "source": [
    "net"
   ]
  },
  {
   "cell_type": "code",
   "execution_count": 22,
   "metadata": {},
   "outputs": [],
   "source": [
    "torch.save(net,\"../model/model_1.pt\")"
   ]
  },
  {
   "cell_type": "code",
   "execution_count": null,
   "metadata": {},
   "outputs": [],
   "source": []
  }
 ],
 "metadata": {
  "kernelspec": {
   "display_name": "Python [conda env:torch]",
   "language": "python",
   "name": "conda-env-torch-py"
  },
  "language_info": {
   "codemirror_mode": {
    "name": "ipython",
    "version": 3
   },
   "file_extension": ".py",
   "mimetype": "text/x-python",
   "name": "python",
   "nbconvert_exporter": "python",
   "pygments_lexer": "ipython3",
   "version": "3.7.6"
  }
 },
 "nbformat": 4,
 "nbformat_minor": 4
}
